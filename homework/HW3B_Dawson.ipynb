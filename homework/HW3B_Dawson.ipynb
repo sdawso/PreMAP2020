{
 "cells": [
  {
   "cell_type": "markdown",
   "metadata": {},
   "source": [
    "**<font color='red'>Change the name from assignment_lastname to include YOUR last name</font>**. This will make sure that the assignment doesn't get overwritten when you do a ```git pull upstream master``` in class. "
   ]
  },
  {
   "cell_type": "markdown",
   "metadata": {},
   "source": [
    "# Homework 3B - the coding portion"
   ]
  },
  {
   "cell_type": "markdown",
   "metadata": {},
   "source": [
    "## Due: Friday, October 16, by 5pm"
   ]
  },
  {
   "cell_type": "markdown",
   "metadata": {},
   "source": [
    "Skills: numpy, basic python "
   ]
  },
  {
   "cell_type": "markdown",
   "metadata": {},
   "source": [
    "Turn in instructions:\n",
    "1. Before turning in your notebook, make sure you save it first using the floppy disk save icon or File -> save.\n",
    "2. Open a new terminal ```New -> Terminal```, cd into the directory where you worked on this homework. For most of you that should be ~/PreMAP2020/homework/\n",
    "3. To turn in your assignment, you need to “git push” your assignment to your github using the following commands. You’ll need to be inside the PreMAP2020 directory for this to work. (Not in your home directory.)\n",
    "```\n",
    "git add *\n",
    "git commit -m “<Include a message inside quotes: i.e. Finished HW 3B>”\n",
    "git push\n",
    "```"
   ]
  },
  {
   "cell_type": "markdown",
   "metadata": {},
   "source": [
    "Always start with your import statement! You will only need the package `numpy` for today's homework"
   ]
  },
  {
   "cell_type": "code",
   "execution_count": 25,
   "metadata": {},
   "outputs": [],
   "source": [
    "#We're going to be using numpy in this homework, so we need to import it first.\n",
    "import numpy as np\n",
    "\n",
    "#The next command makes sure that when I try to display images they show to the notebook screen\n",
    "%matplotlib inline "
   ]
  },
  {
   "cell_type": "markdown",
   "metadata": {},
   "source": [
    "### The exercises in this coding assignment will be based on the article you read for Homework 3A. You can find a link to the article [here](https://astrobites.org/2018/07/18/best-exoplanet-destinations-for-mountain-climbers/)."
   ]
  },
  {
   "cell_type": "markdown",
   "metadata": {},
   "source": [
    "**Before you get started:**\n",
    "Remember that you have many tools to help you out with coding! First, please reference the notebooks we've been working through in class. Great coders copy their old code ALL THE TIME, it is a great resource! You should also make Google your best friend for code questions. Don't hesitate to google your questions. Lastly, you should get familiar with the built in documentation for python and python packages such as numpy. You can access help pages by typing the function name, followed by a ? in a coding cell and then executing it."
   ]
  },
  {
   "cell_type": "markdown",
   "metadata": {},
   "source": [
    "**1)**\n",
    "Use the `print` command to print the title of the astrobites article to the screen."
   ]
  },
  {
   "cell_type": "code",
   "execution_count": 26,
   "metadata": {},
   "outputs": [
    {
     "name": "stdout",
     "output_type": "stream",
     "text": [
      "Best exoplanet destinations for mountain climbers\n"
     ]
    }
   ],
   "source": [
    "print('Best exoplanet destinations for mountain climbers')"
   ]
  },
  {
   "cell_type": "markdown",
   "metadata": {},
   "source": [
    "Using Figure 1 from the paper as a reference, we're going to use Python to do some calculations for us:"
   ]
  },
  {
   "cell_type": "code",
   "execution_count": 4,
   "metadata": {
    "scrolled": false
   },
   "outputs": [
    {
     "ename": "FileNotFoundError",
     "evalue": "[Errno 2] No such file or directory: 'astro/user/sdawso/PreMAP2019/homework/data/exomountain_trainsit.png'",
     "output_type": "error",
     "traceback": [
      "\u001b[0;31m---------------------------------------------------------------------------\u001b[0m",
      "\u001b[0;31mFileNotFoundError\u001b[0m                         Traceback (most recent call last)",
      "\u001b[0;32m<ipython-input-4-8d3319238dc1>\u001b[0m in \u001b[0;36m<module>\u001b[0;34m\u001b[0m\n\u001b[1;32m      2\u001b[0m \u001b[0;32mfrom\u001b[0m \u001b[0mIPython\u001b[0m\u001b[0;34m.\u001b[0m\u001b[0mdisplay\u001b[0m \u001b[0;32mimport\u001b[0m \u001b[0mImage\u001b[0m\u001b[0;34m\u001b[0m\u001b[0;34m\u001b[0m\u001b[0m\n\u001b[1;32m      3\u001b[0m \u001b[0;32mfrom\u001b[0m \u001b[0mIPython\u001b[0m\u001b[0;34m.\u001b[0m\u001b[0mdisplay\u001b[0m \u001b[0;32mimport\u001b[0m \u001b[0mdisplay\u001b[0m\u001b[0;34m\u001b[0m\u001b[0;34m\u001b[0m\u001b[0m\n\u001b[0;32m----> 4\u001b[0;31m \u001b[0mlc\u001b[0m \u001b[0;34m=\u001b[0m \u001b[0mImage\u001b[0m\u001b[0;34m(\u001b[0m\u001b[0mfilename\u001b[0m\u001b[0;34m=\u001b[0m\u001b[0;34m'astro/user/sdawso/PreMAP2019/homework/data/exomountain_trainsit.png'\u001b[0m\u001b[0;34m)\u001b[0m\u001b[0;34m\u001b[0m\u001b[0;34m\u001b[0m\u001b[0m\n\u001b[0m\u001b[1;32m      5\u001b[0m \u001b[0mdisplay\u001b[0m\u001b[0;34m(\u001b[0m\u001b[0mlc\u001b[0m\u001b[0;34m)\u001b[0m\u001b[0;34m\u001b[0m\u001b[0;34m\u001b[0m\u001b[0m\n",
      "\u001b[0;32m/opt/conda/lib/python3.7/site-packages/IPython/core/display.py\u001b[0m in \u001b[0;36m__init__\u001b[0;34m(self, data, url, filename, format, embed, width, height, retina, unconfined, metadata)\u001b[0m\n\u001b[1;32m   1223\u001b[0m         \u001b[0mself\u001b[0m\u001b[0;34m.\u001b[0m\u001b[0munconfined\u001b[0m \u001b[0;34m=\u001b[0m \u001b[0munconfined\u001b[0m\u001b[0;34m\u001b[0m\u001b[0;34m\u001b[0m\u001b[0m\n\u001b[1;32m   1224\u001b[0m         super(Image, self).__init__(data=data, url=url, filename=filename, \n\u001b[0;32m-> 1225\u001b[0;31m                 metadata=metadata)\n\u001b[0m\u001b[1;32m   1226\u001b[0m \u001b[0;34m\u001b[0m\u001b[0m\n\u001b[1;32m   1227\u001b[0m         \u001b[0;32mif\u001b[0m \u001b[0mself\u001b[0m\u001b[0;34m.\u001b[0m\u001b[0mwidth\u001b[0m \u001b[0;32mis\u001b[0m \u001b[0;32mNone\u001b[0m \u001b[0;32mand\u001b[0m \u001b[0mself\u001b[0m\u001b[0;34m.\u001b[0m\u001b[0mmetadata\u001b[0m\u001b[0;34m.\u001b[0m\u001b[0mget\u001b[0m\u001b[0;34m(\u001b[0m\u001b[0;34m'width'\u001b[0m\u001b[0;34m,\u001b[0m \u001b[0;34m{\u001b[0m\u001b[0;34m}\u001b[0m\u001b[0;34m)\u001b[0m\u001b[0;34m:\u001b[0m\u001b[0;34m\u001b[0m\u001b[0;34m\u001b[0m\u001b[0m\n",
      "\u001b[0;32m/opt/conda/lib/python3.7/site-packages/IPython/core/display.py\u001b[0m in \u001b[0;36m__init__\u001b[0;34m(self, data, url, filename, metadata)\u001b[0m\n\u001b[1;32m    628\u001b[0m             \u001b[0mself\u001b[0m\u001b[0;34m.\u001b[0m\u001b[0mmetadata\u001b[0m \u001b[0;34m=\u001b[0m \u001b[0;34m{\u001b[0m\u001b[0;34m}\u001b[0m\u001b[0;34m\u001b[0m\u001b[0;34m\u001b[0m\u001b[0m\n\u001b[1;32m    629\u001b[0m \u001b[0;34m\u001b[0m\u001b[0m\n\u001b[0;32m--> 630\u001b[0;31m         \u001b[0mself\u001b[0m\u001b[0;34m.\u001b[0m\u001b[0mreload\u001b[0m\u001b[0;34m(\u001b[0m\u001b[0;34m)\u001b[0m\u001b[0;34m\u001b[0m\u001b[0;34m\u001b[0m\u001b[0m\n\u001b[0m\u001b[1;32m    631\u001b[0m         \u001b[0mself\u001b[0m\u001b[0;34m.\u001b[0m\u001b[0m_check_data\u001b[0m\u001b[0;34m(\u001b[0m\u001b[0;34m)\u001b[0m\u001b[0;34m\u001b[0m\u001b[0;34m\u001b[0m\u001b[0m\n\u001b[1;32m    632\u001b[0m \u001b[0;34m\u001b[0m\u001b[0m\n",
      "\u001b[0;32m/opt/conda/lib/python3.7/site-packages/IPython/core/display.py\u001b[0m in \u001b[0;36mreload\u001b[0;34m(self)\u001b[0m\n\u001b[1;32m   1254\u001b[0m         \u001b[0;34m\"\"\"Reload the raw data from file or URL.\"\"\"\u001b[0m\u001b[0;34m\u001b[0m\u001b[0;34m\u001b[0m\u001b[0m\n\u001b[1;32m   1255\u001b[0m         \u001b[0;32mif\u001b[0m \u001b[0mself\u001b[0m\u001b[0;34m.\u001b[0m\u001b[0membed\u001b[0m\u001b[0;34m:\u001b[0m\u001b[0;34m\u001b[0m\u001b[0;34m\u001b[0m\u001b[0m\n\u001b[0;32m-> 1256\u001b[0;31m             \u001b[0msuper\u001b[0m\u001b[0;34m(\u001b[0m\u001b[0mImage\u001b[0m\u001b[0;34m,\u001b[0m\u001b[0mself\u001b[0m\u001b[0;34m)\u001b[0m\u001b[0;34m.\u001b[0m\u001b[0mreload\u001b[0m\u001b[0;34m(\u001b[0m\u001b[0;34m)\u001b[0m\u001b[0;34m\u001b[0m\u001b[0;34m\u001b[0m\u001b[0m\n\u001b[0m\u001b[1;32m   1257\u001b[0m             \u001b[0;32mif\u001b[0m \u001b[0mself\u001b[0m\u001b[0;34m.\u001b[0m\u001b[0mretina\u001b[0m\u001b[0;34m:\u001b[0m\u001b[0;34m\u001b[0m\u001b[0;34m\u001b[0m\u001b[0m\n\u001b[1;32m   1258\u001b[0m                 \u001b[0mself\u001b[0m\u001b[0;34m.\u001b[0m\u001b[0m_retina_shape\u001b[0m\u001b[0;34m(\u001b[0m\u001b[0;34m)\u001b[0m\u001b[0;34m\u001b[0m\u001b[0;34m\u001b[0m\u001b[0m\n",
      "\u001b[0;32m/opt/conda/lib/python3.7/site-packages/IPython/core/display.py\u001b[0m in \u001b[0;36mreload\u001b[0;34m(self)\u001b[0m\n\u001b[1;32m    653\u001b[0m         \u001b[0;34m\"\"\"Reload the raw data from file or URL.\"\"\"\u001b[0m\u001b[0;34m\u001b[0m\u001b[0;34m\u001b[0m\u001b[0m\n\u001b[1;32m    654\u001b[0m         \u001b[0;32mif\u001b[0m \u001b[0mself\u001b[0m\u001b[0;34m.\u001b[0m\u001b[0mfilename\u001b[0m \u001b[0;32mis\u001b[0m \u001b[0;32mnot\u001b[0m \u001b[0;32mNone\u001b[0m\u001b[0;34m:\u001b[0m\u001b[0;34m\u001b[0m\u001b[0;34m\u001b[0m\u001b[0m\n\u001b[0;32m--> 655\u001b[0;31m             \u001b[0;32mwith\u001b[0m \u001b[0mopen\u001b[0m\u001b[0;34m(\u001b[0m\u001b[0mself\u001b[0m\u001b[0;34m.\u001b[0m\u001b[0mfilename\u001b[0m\u001b[0;34m,\u001b[0m \u001b[0mself\u001b[0m\u001b[0;34m.\u001b[0m\u001b[0m_read_flags\u001b[0m\u001b[0;34m)\u001b[0m \u001b[0;32mas\u001b[0m \u001b[0mf\u001b[0m\u001b[0;34m:\u001b[0m\u001b[0;34m\u001b[0m\u001b[0;34m\u001b[0m\u001b[0m\n\u001b[0m\u001b[1;32m    656\u001b[0m                 \u001b[0mself\u001b[0m\u001b[0;34m.\u001b[0m\u001b[0mdata\u001b[0m \u001b[0;34m=\u001b[0m \u001b[0mf\u001b[0m\u001b[0;34m.\u001b[0m\u001b[0mread\u001b[0m\u001b[0;34m(\u001b[0m\u001b[0;34m)\u001b[0m\u001b[0;34m\u001b[0m\u001b[0;34m\u001b[0m\u001b[0m\n\u001b[1;32m    657\u001b[0m         \u001b[0;32melif\u001b[0m \u001b[0mself\u001b[0m\u001b[0;34m.\u001b[0m\u001b[0murl\u001b[0m \u001b[0;32mis\u001b[0m \u001b[0;32mnot\u001b[0m \u001b[0;32mNone\u001b[0m\u001b[0;34m:\u001b[0m\u001b[0;34m\u001b[0m\u001b[0;34m\u001b[0m\u001b[0m\n",
      "\u001b[0;31mFileNotFoundError\u001b[0m: [Errno 2] No such file or directory: 'astro/user/sdawso/PreMAP2019/homework/data/exomountain_trainsit.png'"
     ]
    }
   ],
   "source": [
    "#IGNORE THIS CELL - I'm just using it to display Figure 1 from the paper.\n",
    "from IPython.display import Image\n",
    "from IPython.display import display\n",
    "lc = Image(filename='astro/user/sdawso/PreMAP2019/homework/data/exomountain_trainsit.png') \n",
    "display(lc)"
   ]
  },
  {
   "cell_type": "markdown",
   "metadata": {},
   "source": [
    "**2)**\n",
    "Create a variable called `delta_sphere` and a variable called `delta_block`. Assuming that the bottom of the graph is 0, choose a reasonable value for both variables between 0 and 1. "
   ]
  },
  {
   "cell_type": "code",
   "execution_count": 28,
   "metadata": {},
   "outputs": [],
   "source": [
    "delta_sphere = 0.4\n",
    "delta_block = 0.1"
   ]
  },
  {
   "cell_type": "markdown",
   "metadata": {},
   "source": [
    "**3)** How much larger is `delta_sphere` than `delta_block`?"
   ]
  },
  {
   "cell_type": "code",
   "execution_count": 29,
   "metadata": {},
   "outputs": [],
   "source": [
    "#0.3"
   ]
  },
  {
   "cell_type": "markdown",
   "metadata": {},
   "source": [
    "**4)**\n",
    "From the paper, we know that the transit depth, $\\delta$ is related to the cross-sectional area of the planet, A, and the radius of the host star, R, using the equation: $\\delta = \\frac{A}{\\pi R^{2}}$. \n",
    "\n",
    "Using your value for `delta_sphere` above, if the cross-sectional area of the planet is 0.5, what is the radius of the host star? Print the radius to the screen. *Hint: the value of $\\pi$ is built into `numpy`, you can use it by typing `np.pi`.*"
   ]
  },
  {
   "cell_type": "code",
   "execution_count": 30,
   "metadata": {},
   "outputs": [
    {
     "name": "stdout",
     "output_type": "stream",
     "text": [
      "1.9816636488030055\n"
     ]
    }
   ],
   "source": [
    "import math\n",
    "\n",
    "delta_sphere = 0.4\n",
    "A = 0.5\n",
    "R = math.sqrt(A*np.pi/delta_sphere)\n",
    "\n",
    "print(R)"
   ]
  },
  {
   "cell_type": "markdown",
   "metadata": {},
   "source": [
    "**5)**\n",
    "Let's say you had a whole bunch of these observations and wanted to calculate the radii of a bunch of stars. Create a numpy array called `areas` that contains 10 cross-sectional areas evenly spaced out between 0.1 and 1 (including both 0.1 and 1). Print your `areas` array to the screen. Calculate the radius of the host star for each planet with an area in the `areas` array. Create an array called `radii` that contains the radius of each of thse host stars and print it to the screen."
   ]
  },
  {
   "cell_type": "code",
   "execution_count": 31,
   "metadata": {},
   "outputs": [],
   "source": [
    "import numpy as np\n",
    "areas = np.array(np.arange(0.1, 1.1, 0.1))"
   ]
  },
  {
   "cell_type": "code",
   "execution_count": 32,
   "metadata": {},
   "outputs": [
    {
     "name": "stdout",
     "output_type": "stream",
     "text": [
      "[0.1 0.2 0.3 0.4 0.5 0.6 0.7 0.8 0.9 1. ]\n"
     ]
    }
   ],
   "source": [
    "print(areas)"
   ]
  },
  {
   "cell_type": "code",
   "execution_count": 165,
   "metadata": {},
   "outputs": [
    {
     "name": "stdout",
     "output_type": "stream",
     "text": [
      "[0.88622693 1.25331414 1.53499006 1.77245385 1.98166365 2.17080376\n",
      " 2.34473605 2.50662827 2.65868078 2.80249561]\n"
     ]
    }
   ],
   "source": [
    "radii = np.array(np.sqrt(areas*np.pi/delta_sphere))\n",
    "print(radii)"
   ]
  },
  {
   "cell_type": "markdown",
   "metadata": {},
   "source": [
    "**6)** Let's do some math with these numbers, just to test out some of the handy calculations we can do with python and the numpy package. Raise every value of the `radii` array to the 2nd power. Trick - do this two different ways! You will soon learn that there are always multiple ways to do something with Python, and usually more than one good way to do it! You can raise an array to a power using just normal python math operators (+, -, $*$, $**$, etc.) and with the built in `numpy` function `np.power`. Please show that you can do it both ways in the empty cell below."
   ]
  },
  {
   "cell_type": "markdown",
   "metadata": {},
   "source": [
    "Helpful hint, if you aren't sure what arguments the `np.power` function takes, read its help docs by executing the cell below."
   ]
  },
  {
   "cell_type": "code",
   "execution_count": 34,
   "metadata": {},
   "outputs": [],
   "source": [
    "np.power?"
   ]
  },
  {
   "cell_type": "code",
   "execution_count": 166,
   "metadata": {},
   "outputs": [
    {
     "name": "stdout",
     "output_type": "stream",
     "text": [
      "[0.78539816 1.57079633 2.35619449 3.14159265 3.92699082 4.71238898\n",
      " 5.49778714 6.28318531 7.06858347 7.85398163] \n",
      "\n",
      "[0.78539816 1.57079633 2.35619449 3.14159265 3.92699082 4.71238898\n",
      " 5.49778714 6.28318531 7.06858347 7.85398163]\n"
     ]
    }
   ],
   "source": [
    "#option one\n",
    "radii1 = np.power(radii, 2)\n",
    "print(radii1, '\\n')\n",
    "\n",
    "#option two\n",
    "radii2 = radii**2\n",
    "print(radii2)"
   ]
  },
  {
   "cell_type": "markdown",
   "metadata": {},
   "source": [
    "**7)** Sum up the radius of each host star in the `radii` array."
   ]
  },
  {
   "cell_type": "code",
   "execution_count": 167,
   "metadata": {},
   "outputs": [
    {
     "name": "stdout",
     "output_type": "stream",
     "text": [
      "19.91199309717693\n"
     ]
    }
   ],
   "source": [
    "radii_sum = np.sum(radii)\n",
    "print(radii_sum)"
   ]
  },
  {
   "cell_type": "markdown",
   "metadata": {},
   "source": [
    "**8)** Subtract 0.5 from each value in the `radii` array."
   ]
  },
  {
   "cell_type": "code",
   "execution_count": 168,
   "metadata": {},
   "outputs": [
    {
     "name": "stdout",
     "output_type": "stream",
     "text": [
      "[0.38622693 0.75331414 1.03499006 1.27245385 1.48166365 1.67080376\n",
      " 1.84473605 2.00662827 2.15868078 2.30249561]\n"
     ]
    }
   ],
   "source": [
    "radii_sub = radii-0.5\n",
    "print(radii_sub)"
   ]
  },
  {
   "cell_type": "markdown",
   "metadata": {},
   "source": [
    "**9)** Divide each value of the radii array by 2."
   ]
  },
  {
   "cell_type": "code",
   "execution_count": 169,
   "metadata": {},
   "outputs": [
    {
     "name": "stdout",
     "output_type": "stream",
     "text": [
      "[0.44311346 0.62665707 0.76749503 0.88622693 0.99083182 1.08540188\n",
      " 1.17236802 1.25331414 1.32934039 1.4012478 ]\n"
     ]
    }
   ],
   "source": [
    "radii_half = radii/2\n",
    "print(radii_half)"
   ]
  },
  {
   "cell_type": "markdown",
   "metadata": {},
   "source": [
    "**10)** Let's create a new array of star radii called `new_radii`. The `new_radii` array should contain all multiples of 3 between 0 and 999, including 999. Print `new_radii` to the screen."
   ]
  },
  {
   "cell_type": "code",
   "execution_count": 183,
   "metadata": {},
   "outputs": [
    {
     "name": "stdout",
     "output_type": "stream",
     "text": [
      "[  0   3   6   9  12  15  18  21  24  27  30  33  36  39  42  45  48  51\n",
      "  54  57  60  63  66  69  72  75  78  81  84  87  90  93  96  99 102 105\n",
      " 108 111 114 117 120 123 126 129 132 135 138 141 144 147 150 153 156 159\n",
      " 162 165 168 171 174 177 180 183 186 189 192 195 198 201 204 207 210 213\n",
      " 216 219 222 225 228 231 234 237 240 243 246 249 252 255 258 261 264 267\n",
      " 270 273 276 279 282 285 288 291 294 297 300 303 306 309 312 315 318 321\n",
      " 324 327 330 333 336 339 342 345 348 351 354 357 360 363 366 369 372 375\n",
      " 378 381 384 387 390 393 396 399 402 405 408 411 414 417 420 423 426 429\n",
      " 432 435 438 441 444 447 450 453 456 459 462 465 468 471 474 477 480 483\n",
      " 486 489 492 495 498 501 504 507 510 513 516 519 522 525 528 531 534 537\n",
      " 540 543 546 549 552 555 558 561 564 567 570 573 576 579 582 585 588 591\n",
      " 594 597 600 603 606 609 612 615 618 621 624 627 630 633 636 639 642 645\n",
      " 648 651 654 657 660 663 666 669 672 675 678 681 684 687 690 693 696 699\n",
      " 702 705 708 711 714 717 720 723 726 729 732 735 738 741 744 747 750 753\n",
      " 756 759 762 765 768 771 774 777 780 783 786 789 792 795 798 801 804 807\n",
      " 810 813 816 819 822 825 828 831 834 837 840 843 846 849 852 855 858 861\n",
      " 864 867 870 873 876 879 882 885 888 891 894 897 900 903 906 909 912 915\n",
      " 918 921 924 927 930 933 936 939 942 945 948 951 954 957 960 963 966 969\n",
      " 972 975 978 981 984 987 990 993 996 999]\n"
     ]
    }
   ],
   "source": [
    "new_radii = np.array(range(0, 1002, 3))\n",
    "print(new_radii)"
   ]
  },
  {
   "cell_type": "markdown",
   "metadata": {},
   "source": [
    "**11)** Calculate the cross sectional area of the planet for each of the host stars in the `new_radii` array. Save these values in an array called `new_areas`."
   ]
  },
  {
   "cell_type": "code",
   "execution_count": 171,
   "metadata": {
    "scrolled": false
   },
   "outputs": [
    {
     "name": "stdout",
     "output_type": "stream",
     "text": [
      "[0.00000000e+00 1.13097336e+01 4.52389342e+01 1.01787602e+02\n",
      " 1.80955737e+02 2.82743339e+02 4.07150408e+02 5.54176944e+02\n",
      " 7.23822947e+02 9.16088418e+02 1.13097336e+03 1.36847776e+03\n",
      " 1.62860163e+03 1.91134497e+03 2.21670778e+03 2.54469005e+03\n",
      " 2.89529179e+03 3.26851300e+03 3.66435367e+03 4.08281381e+03\n",
      " 4.52389342e+03 4.98759250e+03 5.47391104e+03 5.98284905e+03\n",
      " 6.51440653e+03 7.06858347e+03 7.64537988e+03 8.24479576e+03\n",
      " 8.86683111e+03 9.51148592e+03 1.01787602e+04 1.08686539e+04\n",
      " 1.15811672e+04 1.23162998e+04 1.30740520e+04 1.38544236e+04\n",
      " 1.46574147e+04 1.54830252e+04 1.63312553e+04 1.72021047e+04\n",
      " 1.80955737e+04 1.90116621e+04 1.99503700e+04 2.09116973e+04\n",
      " 2.18956442e+04 2.29022104e+04 2.39313962e+04 2.49832014e+04\n",
      " 2.60576261e+04 2.71546703e+04 2.82743339e+04 2.94166170e+04\n",
      " 3.05815195e+04 3.17690416e+04 3.29791830e+04 3.42119440e+04\n",
      " 3.54673244e+04 3.67453243e+04 3.80459437e+04 3.93691825e+04\n",
      " 4.07150408e+04 4.20835186e+04 4.34746158e+04 4.48883325e+04\n",
      " 4.63246686e+04 4.77836243e+04 4.92651994e+04 5.07693939e+04\n",
      " 5.22962079e+04 5.38456414e+04 5.54176944e+04 5.70123668e+04\n",
      " 5.86296587e+04 6.02695701e+04 6.19321009e+04 6.36172512e+04\n",
      " 6.53250210e+04 6.70554102e+04 6.88084189e+04 7.05840471e+04\n",
      " 7.23822947e+04 7.42031618e+04 7.60466484e+04 7.79127544e+04\n",
      " 7.98014799e+04 8.17128249e+04 8.36467894e+04 8.56033733e+04\n",
      " 8.75825766e+04 8.95843995e+04 9.16088418e+04 9.36559036e+04\n",
      " 9.57255848e+04 9.78178855e+04 9.99328057e+04 1.02070345e+05\n",
      " 1.04230504e+05 1.06413283e+05 1.08618681e+05 1.10846699e+05\n",
      " 1.13097336e+05 1.15370592e+05 1.17666468e+05 1.19984963e+05\n",
      " 1.22326078e+05 1.24689812e+05 1.27076166e+05 1.29485139e+05\n",
      " 1.31916732e+05 1.34370944e+05 1.36847776e+05 1.39347227e+05\n",
      " 1.41869298e+05 1.44413988e+05 1.46981297e+05 1.49571226e+05\n",
      " 1.52183775e+05 1.54818943e+05 1.57476730e+05 1.60157137e+05\n",
      " 1.62860163e+05 1.65585809e+05 1.68334074e+05 1.71104959e+05\n",
      " 1.73898463e+05 1.76714587e+05 1.79553330e+05 1.82414692e+05\n",
      " 1.85298675e+05 1.88205276e+05 1.91134497e+05 1.94086338e+05\n",
      " 1.97060797e+05 2.00057877e+05 2.03077576e+05 2.06119894e+05\n",
      " 2.09184832e+05 2.12272389e+05 2.15382566e+05 2.18515362e+05\n",
      " 2.21670778e+05 2.24848813e+05 2.28049467e+05 2.31272741e+05\n",
      " 2.34518635e+05 2.37787148e+05 2.41078280e+05 2.44392032e+05\n",
      " 2.47728404e+05 2.51087395e+05 2.54469005e+05 2.57873235e+05\n",
      " 2.61300084e+05 2.64749553e+05 2.68221641e+05 2.71716349e+05\n",
      " 2.75233676e+05 2.78773622e+05 2.82336188e+05 2.85921374e+05\n",
      " 2.89529179e+05 2.93159603e+05 2.96812647e+05 3.00488311e+05\n",
      " 3.04186594e+05 3.07907496e+05 3.11651018e+05 3.15417159e+05\n",
      " 3.19205920e+05 3.23017300e+05 3.26851300e+05 3.30707919e+05\n",
      " 3.34587157e+05 3.38489016e+05 3.42413493e+05 3.46360590e+05\n",
      " 3.50330307e+05 3.54322642e+05 3.58337598e+05 3.62375173e+05\n",
      " 3.66435367e+05 3.70518181e+05 3.74623614e+05 3.78751667e+05\n",
      " 3.82902339e+05 3.87075631e+05 3.91271542e+05 3.95490073e+05\n",
      " 3.99731223e+05 4.03994992e+05 4.08281381e+05 4.12590390e+05\n",
      " 4.16922018e+05 4.21276265e+05 4.25653132e+05 4.30052618e+05\n",
      " 4.34474724e+05 4.38919449e+05 4.43386794e+05 4.47876758e+05\n",
      " 4.52389342e+05 4.56924545e+05 4.61482368e+05 4.66062810e+05\n",
      " 4.70665872e+05 4.75291553e+05 4.79939853e+05 4.84610773e+05\n",
      " 4.89304312e+05 4.94020471e+05 4.98759250e+05 5.03520648e+05\n",
      " 5.08304665e+05 5.13111302e+05 5.17940558e+05 5.22792433e+05\n",
      " 5.27666929e+05 5.32564043e+05 5.37483777e+05 5.42426131e+05\n",
      " 5.47391104e+05 5.52378696e+05 5.57388908e+05 5.62421740e+05\n",
      " 5.67477191e+05 5.72555261e+05 5.77655951e+05 5.82779260e+05\n",
      " 5.87925189e+05 5.93093737e+05 5.98284905e+05 6.03498692e+05\n",
      " 6.08735099e+05 6.13994125e+05 6.19275770e+05 6.24580035e+05\n",
      " 6.29906920e+05 6.35256424e+05 6.40628547e+05 6.46023290e+05\n",
      " 6.51440653e+05 6.56880634e+05 6.62343236e+05 6.67828457e+05\n",
      " 6.73336297e+05 6.78866757e+05 6.84419836e+05 6.89995534e+05\n",
      " 6.95593852e+05 7.01214790e+05 7.06858347e+05 7.12524524e+05\n",
      " 7.18213320e+05 7.23924735e+05 7.29658770e+05 7.35415424e+05\n",
      " 7.41194698e+05 7.46996591e+05 7.52821104e+05 7.58668236e+05\n",
      " 7.64537988e+05 7.70430359e+05 7.76345350e+05 7.82282960e+05\n",
      " 7.88243190e+05 7.94226039e+05 8.00231507e+05 8.06259595e+05\n",
      " 8.12310303e+05 8.18383630e+05 8.24479576e+05 8.30598142e+05\n",
      " 8.36739327e+05 8.42903132e+05 8.49089556e+05 8.55298600e+05\n",
      " 8.61530263e+05 8.67784546e+05 8.74061448e+05 8.80360969e+05\n",
      " 8.86683111e+05 8.93027871e+05 8.99395251e+05 9.05785251e+05\n",
      " 9.12197869e+05 9.18633108e+05 9.25090966e+05 9.31571443e+05\n",
      " 9.38074540e+05 9.44600256e+05 9.51148592e+05 9.57719547e+05\n",
      " 9.64313122e+05 9.70929316e+05 9.77568129e+05 9.84229562e+05\n",
      " 9.90913615e+05 9.97620287e+05 1.00434958e+06 1.01110149e+06\n",
      " 1.01787602e+06 1.02467317e+06 1.03149294e+06 1.03833533e+06\n",
      " 1.04520034e+06 1.05208796e+06 1.05899821e+06 1.06593108e+06\n",
      " 1.07288656e+06 1.07986467e+06 1.08686539e+06 1.09388874e+06\n",
      " 1.10093470e+06 1.10800329e+06 1.11509449e+06 1.12220831e+06\n",
      " 1.12934475e+06 1.13650381e+06 1.14368550e+06 1.15088980e+06\n",
      " 1.15811672e+06 1.16536626e+06 1.17263841e+06 1.17993319e+06\n",
      " 1.18725059e+06 1.19459061e+06 1.20195324e+06 1.20933850e+06\n",
      " 1.21674637e+06 1.22417687e+06 1.23162998e+06 1.23910572e+06\n",
      " 1.24660407e+06 1.25412504e+06]\n"
     ]
    }
   ],
   "source": [
    "new_areas = delta_sphere*np.pi*np.power(new_radii, 2)\n",
    "print(new_areas)"
   ]
  },
  {
   "cell_type": "markdown",
   "metadata": {},
   "source": [
    "**12)** You might notice that when you print out `new_areas` that the values are listed in scientific notation. This is a useful feature of Python, especially when working with big numbers like we do in astronomy. Print the 5th element of the `new_areas` array to the screen. *Hint: remember that Python indexes starting with 0."
   ]
  },
  {
   "cell_type": "code",
   "execution_count": 172,
   "metadata": {},
   "outputs": [
    {
     "name": "stdout",
     "output_type": "stream",
     "text": [
      "180.95573684677208\n"
     ]
    }
   ],
   "source": [
    "print(new_areas[4])"
   ]
  },
  {
   "cell_type": "markdown",
   "metadata": {},
   "source": [
    "**13)** What is the sum of the cross sectional areas of all of the planets in the `new_areas` array?"
   ]
  },
  {
   "cell_type": "code",
   "execution_count": 173,
   "metadata": {},
   "outputs": [
    {
     "name": "stdout",
     "output_type": "stream",
     "text": [
      "139835570.09064913\n"
     ]
    }
   ],
   "source": [
    "na_sum = np.sum(new_areas)\n",
    "print(na_sum)"
   ]
  },
  {
   "cell_type": "markdown",
   "metadata": {},
   "source": [
    "**14)** What is the sum of the radii of all of the stars in the `new_radii` array with a radius of greater than 400?"
   ]
  },
  {
   "cell_type": "code",
   "execution_count": 174,
   "metadata": {},
   "outputs": [
    {
     "name": "stdout",
     "output_type": "stream",
     "text": [
      "166833\n"
     ]
    }
   ],
   "source": [
    "nr_sum_over400 = np.sum(new_radii[i>400])\n",
    "print(nr_sum_over400)"
   ]
  },
  {
   "cell_type": "markdown",
   "metadata": {},
   "source": [
    "**15)** How many of the values in `new_radii` are even? Use Exercise 5 (putting it all together) from the `numpy` lesson as a reference."
   ]
  },
  {
   "cell_type": "code",
   "execution_count": 175,
   "metadata": {},
   "outputs": [
    {
     "name": "stdout",
     "output_type": "stream",
     "text": [
      "167\n"
     ]
    }
   ],
   "source": [
    "even_radii = len(new_radii[new_radii%2==0])\n",
    "print(even_radii)"
   ]
  },
  {
   "cell_type": "code",
   "execution_count": 119,
   "metadata": {},
   "outputs": [
    {
     "ename": "FileNotFoundError",
     "evalue": "[Errno 2] No such file or directory: '/astro/users/mlazz/PreMAP2019/homework/data/bumpiness_fig2.png'",
     "output_type": "error",
     "traceback": [
      "\u001b[0;31m---------------------------------------------------------------------------\u001b[0m",
      "\u001b[0;31mFileNotFoundError\u001b[0m                         Traceback (most recent call last)",
      "\u001b[0;32m<ipython-input-119-65d314d1cc81>\u001b[0m in \u001b[0;36m<module>\u001b[0;34m\u001b[0m\n\u001b[1;32m      1\u001b[0m \u001b[0;31m#IGNORE THIS CELL - just displaying Figure 2\u001b[0m\u001b[0;34m\u001b[0m\u001b[0;34m\u001b[0m\u001b[0;34m\u001b[0m\u001b[0m\n\u001b[0;32m----> 2\u001b[0;31m \u001b[0mbumpiness\u001b[0m \u001b[0;34m=\u001b[0m \u001b[0mImage\u001b[0m\u001b[0;34m(\u001b[0m\u001b[0mfilename\u001b[0m\u001b[0;34m=\u001b[0m\u001b[0;34m'/astro/users/mlazz/PreMAP2019/homework/data/bumpiness_fig2.png'\u001b[0m\u001b[0;34m)\u001b[0m\u001b[0;34m\u001b[0m\u001b[0;34m\u001b[0m\u001b[0m\n\u001b[0m\u001b[1;32m      3\u001b[0m \u001b[0mdisplay\u001b[0m\u001b[0;34m(\u001b[0m\u001b[0mbumpiness\u001b[0m\u001b[0;34m)\u001b[0m\u001b[0;34m\u001b[0m\u001b[0;34m\u001b[0m\u001b[0m\n",
      "\u001b[0;32m/opt/conda/lib/python3.7/site-packages/IPython/core/display.py\u001b[0m in \u001b[0;36m__init__\u001b[0;34m(self, data, url, filename, format, embed, width, height, retina, unconfined, metadata)\u001b[0m\n\u001b[1;32m   1223\u001b[0m         \u001b[0mself\u001b[0m\u001b[0;34m.\u001b[0m\u001b[0munconfined\u001b[0m \u001b[0;34m=\u001b[0m \u001b[0munconfined\u001b[0m\u001b[0;34m\u001b[0m\u001b[0;34m\u001b[0m\u001b[0m\n\u001b[1;32m   1224\u001b[0m         super(Image, self).__init__(data=data, url=url, filename=filename, \n\u001b[0;32m-> 1225\u001b[0;31m                 metadata=metadata)\n\u001b[0m\u001b[1;32m   1226\u001b[0m \u001b[0;34m\u001b[0m\u001b[0m\n\u001b[1;32m   1227\u001b[0m         \u001b[0;32mif\u001b[0m \u001b[0mself\u001b[0m\u001b[0;34m.\u001b[0m\u001b[0mwidth\u001b[0m \u001b[0;32mis\u001b[0m \u001b[0;32mNone\u001b[0m \u001b[0;32mand\u001b[0m \u001b[0mself\u001b[0m\u001b[0;34m.\u001b[0m\u001b[0mmetadata\u001b[0m\u001b[0;34m.\u001b[0m\u001b[0mget\u001b[0m\u001b[0;34m(\u001b[0m\u001b[0;34m'width'\u001b[0m\u001b[0;34m,\u001b[0m \u001b[0;34m{\u001b[0m\u001b[0;34m}\u001b[0m\u001b[0;34m)\u001b[0m\u001b[0;34m:\u001b[0m\u001b[0;34m\u001b[0m\u001b[0;34m\u001b[0m\u001b[0m\n",
      "\u001b[0;32m/opt/conda/lib/python3.7/site-packages/IPython/core/display.py\u001b[0m in \u001b[0;36m__init__\u001b[0;34m(self, data, url, filename, metadata)\u001b[0m\n\u001b[1;32m    628\u001b[0m             \u001b[0mself\u001b[0m\u001b[0;34m.\u001b[0m\u001b[0mmetadata\u001b[0m \u001b[0;34m=\u001b[0m \u001b[0;34m{\u001b[0m\u001b[0;34m}\u001b[0m\u001b[0;34m\u001b[0m\u001b[0;34m\u001b[0m\u001b[0m\n\u001b[1;32m    629\u001b[0m \u001b[0;34m\u001b[0m\u001b[0m\n\u001b[0;32m--> 630\u001b[0;31m         \u001b[0mself\u001b[0m\u001b[0;34m.\u001b[0m\u001b[0mreload\u001b[0m\u001b[0;34m(\u001b[0m\u001b[0;34m)\u001b[0m\u001b[0;34m\u001b[0m\u001b[0;34m\u001b[0m\u001b[0m\n\u001b[0m\u001b[1;32m    631\u001b[0m         \u001b[0mself\u001b[0m\u001b[0;34m.\u001b[0m\u001b[0m_check_data\u001b[0m\u001b[0;34m(\u001b[0m\u001b[0;34m)\u001b[0m\u001b[0;34m\u001b[0m\u001b[0;34m\u001b[0m\u001b[0m\n\u001b[1;32m    632\u001b[0m \u001b[0;34m\u001b[0m\u001b[0m\n",
      "\u001b[0;32m/opt/conda/lib/python3.7/site-packages/IPython/core/display.py\u001b[0m in \u001b[0;36mreload\u001b[0;34m(self)\u001b[0m\n\u001b[1;32m   1254\u001b[0m         \u001b[0;34m\"\"\"Reload the raw data from file or URL.\"\"\"\u001b[0m\u001b[0;34m\u001b[0m\u001b[0;34m\u001b[0m\u001b[0m\n\u001b[1;32m   1255\u001b[0m         \u001b[0;32mif\u001b[0m \u001b[0mself\u001b[0m\u001b[0;34m.\u001b[0m\u001b[0membed\u001b[0m\u001b[0;34m:\u001b[0m\u001b[0;34m\u001b[0m\u001b[0;34m\u001b[0m\u001b[0m\n\u001b[0;32m-> 1256\u001b[0;31m             \u001b[0msuper\u001b[0m\u001b[0;34m(\u001b[0m\u001b[0mImage\u001b[0m\u001b[0;34m,\u001b[0m\u001b[0mself\u001b[0m\u001b[0;34m)\u001b[0m\u001b[0;34m.\u001b[0m\u001b[0mreload\u001b[0m\u001b[0;34m(\u001b[0m\u001b[0;34m)\u001b[0m\u001b[0;34m\u001b[0m\u001b[0;34m\u001b[0m\u001b[0m\n\u001b[0m\u001b[1;32m   1257\u001b[0m             \u001b[0;32mif\u001b[0m \u001b[0mself\u001b[0m\u001b[0;34m.\u001b[0m\u001b[0mretina\u001b[0m\u001b[0;34m:\u001b[0m\u001b[0;34m\u001b[0m\u001b[0;34m\u001b[0m\u001b[0m\n\u001b[1;32m   1258\u001b[0m                 \u001b[0mself\u001b[0m\u001b[0;34m.\u001b[0m\u001b[0m_retina_shape\u001b[0m\u001b[0;34m(\u001b[0m\u001b[0;34m)\u001b[0m\u001b[0;34m\u001b[0m\u001b[0;34m\u001b[0m\u001b[0m\n",
      "\u001b[0;32m/opt/conda/lib/python3.7/site-packages/IPython/core/display.py\u001b[0m in \u001b[0;36mreload\u001b[0;34m(self)\u001b[0m\n\u001b[1;32m    653\u001b[0m         \u001b[0;34m\"\"\"Reload the raw data from file or URL.\"\"\"\u001b[0m\u001b[0;34m\u001b[0m\u001b[0;34m\u001b[0m\u001b[0m\n\u001b[1;32m    654\u001b[0m         \u001b[0;32mif\u001b[0m \u001b[0mself\u001b[0m\u001b[0;34m.\u001b[0m\u001b[0mfilename\u001b[0m \u001b[0;32mis\u001b[0m \u001b[0;32mnot\u001b[0m \u001b[0;32mNone\u001b[0m\u001b[0;34m:\u001b[0m\u001b[0;34m\u001b[0m\u001b[0;34m\u001b[0m\u001b[0m\n\u001b[0;32m--> 655\u001b[0;31m             \u001b[0;32mwith\u001b[0m \u001b[0mopen\u001b[0m\u001b[0;34m(\u001b[0m\u001b[0mself\u001b[0m\u001b[0;34m.\u001b[0m\u001b[0mfilename\u001b[0m\u001b[0;34m,\u001b[0m \u001b[0mself\u001b[0m\u001b[0;34m.\u001b[0m\u001b[0m_read_flags\u001b[0m\u001b[0;34m)\u001b[0m \u001b[0;32mas\u001b[0m \u001b[0mf\u001b[0m\u001b[0;34m:\u001b[0m\u001b[0;34m\u001b[0m\u001b[0;34m\u001b[0m\u001b[0m\n\u001b[0m\u001b[1;32m    656\u001b[0m                 \u001b[0mself\u001b[0m\u001b[0;34m.\u001b[0m\u001b[0mdata\u001b[0m \u001b[0;34m=\u001b[0m \u001b[0mf\u001b[0m\u001b[0;34m.\u001b[0m\u001b[0mread\u001b[0m\u001b[0;34m(\u001b[0m\u001b[0;34m)\u001b[0m\u001b[0;34m\u001b[0m\u001b[0;34m\u001b[0m\u001b[0m\n\u001b[1;32m    657\u001b[0m         \u001b[0;32melif\u001b[0m \u001b[0mself\u001b[0m\u001b[0;34m.\u001b[0m\u001b[0murl\u001b[0m \u001b[0;32mis\u001b[0m \u001b[0;32mnot\u001b[0m \u001b[0;32mNone\u001b[0m\u001b[0;34m:\u001b[0m\u001b[0;34m\u001b[0m\u001b[0;34m\u001b[0m\u001b[0m\n",
      "\u001b[0;31mFileNotFoundError\u001b[0m: [Errno 2] No such file or directory: '/astro/users/mlazz/PreMAP2019/homework/data/bumpiness_fig2.png'"
     ]
    }
   ],
   "source": [
    "#IGNORE THIS CELL - just displaying Figure 2\n",
    "bumpiness = Image(filename='/astro/users/mlazz/PreMAP2019/homework/data/bumpiness_fig2.png') \n",
    "display(bumpiness)"
   ]
  },
  {
   "cell_type": "markdown",
   "metadata": {},
   "source": [
    "**16)** Define a variable `r_star` with a value of 0.1 that defines the 0.1 solar radius M-dwarf star used as a reference in this paper. Create an array called `transit_scatter` that contains 100 values between 0.2 and 1.4 describing the transit scatter of 100 fictional planets. \n",
    "\n",
    "Use the equation printed on the figure to determine the bumpiness of each of these planets. Save the bumpiness of each planet into an array called `bumpiness`. Print `bumpiness` to the screen."
   ]
  },
  {
   "cell_type": "code",
   "execution_count": 176,
   "metadata": {},
   "outputs": [
    {
     "name": "stdout",
     "output_type": "stream",
     "text": [
      "[ 973.5134    994.469804 1015.426208 1036.382612 1057.339016 1078.29542\n",
      " 1099.251824 1120.208228 1141.164632 1162.121036 1183.07744  1204.033844\n",
      " 1224.990248 1245.946652 1266.903056 1287.85946  1308.815864 1329.772268\n",
      " 1350.728672 1371.685076 1392.64148  1413.597884 1434.554288 1455.510692\n",
      " 1476.467096 1497.4235   1518.379904 1539.336308 1560.292712 1581.249116\n",
      " 1602.20552  1623.161924 1644.118328 1665.074732 1686.031136 1706.98754\n",
      " 1727.943944 1748.900348 1769.856752 1790.813156 1811.76956  1832.725964\n",
      " 1853.682368 1874.638772 1895.595176 1916.55158  1937.507984 1958.464388\n",
      " 1979.420792 2000.377196 2021.3336   2042.290004 2063.246408 2084.202812\n",
      " 2105.159216 2126.11562  2147.072024 2168.028428 2188.984832 2209.941236\n",
      " 2230.89764  2251.854044 2272.810448 2293.766852 2314.723256 2335.67966\n",
      " 2356.636064 2377.592468 2398.548872 2419.505276 2440.46168  2461.418084\n",
      " 2482.374488 2503.330892 2524.287296 2545.2437   2566.200104 2587.156508\n",
      " 2608.112912 2629.069316 2650.02572  2670.982124 2691.938528 2712.894932\n",
      " 2733.851336 2754.80774  2775.764144 2796.720548 2817.676952 2838.633356\n",
      " 2859.58976  2880.546164 2901.502568 2922.458972 2943.415376 2964.37178\n",
      " 2985.328184 3006.284588 3027.240992 3048.197396]\n"
     ]
    }
   ],
   "source": [
    "r_star = 0.1\n",
    "transit_scatter = np.array(np.arange(0.2, 1.4, 0.012))\n",
    "bumpiness = 624.24+174636.7*transit_scatter*r_star**2\n",
    "print(bumpiness)"
   ]
  },
  {
   "cell_type": "markdown",
   "metadata": {},
   "source": [
    "**17)** The height of Mt. Everest is 8848 meters. What would the transit depth of a planet need to be in order for its `bumpiness` to be equal to the height of Mt. Everest?"
   ]
  },
  {
   "cell_type": "code",
   "execution_count": 177,
   "metadata": {},
   "outputs": [
    {
     "name": "stdout",
     "output_type": "stream",
     "text": [
      "4.709067452603032 \n",
      "\n",
      "8848.0\n"
     ]
    }
   ],
   "source": [
    "transit_scatter_everest_calc = (8848-624.24)/(174636.7*r_star**2)\n",
    "print(transit_scatter_everest_calc, '\\n')\n",
    "\n",
    "#checking answer\n",
    "bumpiness_check = 624.24+174636.7*transit_scatter_everest_calc*r_star**2\n",
    "print(bumpiness_check)"
   ]
  },
  {
   "cell_type": "markdown",
   "metadata": {},
   "source": [
    "**18)** What is the mean bumpiness of your planets? What is the standard deviation of the bumpiness? What is the median? *Hint: there are functions in numpy for all of these google it if you don't remember!*"
   ]
  },
  {
   "cell_type": "code",
   "execution_count": 178,
   "metadata": {},
   "outputs": [
    {
     "name": "stdout",
     "output_type": "stream",
     "text": [
      "2010.8553980000015\n"
     ]
    }
   ],
   "source": [
    "mean = np.mean(bumpiness)\n",
    "print(mean)"
   ]
  },
  {
   "cell_type": "code",
   "execution_count": 179,
   "metadata": {},
   "outputs": [
    {
     "name": "stdout",
     "output_type": "stream",
     "text": [
      "2010.8553980000013\n"
     ]
    }
   ],
   "source": [
    "median = np.median(bumpiness)\n",
    "print(median)"
   ]
  },
  {
   "cell_type": "code",
   "execution_count": 180,
   "metadata": {},
   "outputs": [
    {
     "name": "stdout",
     "output_type": "stream",
     "text": [
      "604.9290258123646\n"
     ]
    }
   ],
   "source": [
    "std_dev = np.std(bumpiness)\n",
    "print(std_dev)"
   ]
  },
  {
   "cell_type": "markdown",
   "metadata": {},
   "source": [
    "**19)** Let's say, more realistically, we changed the radius of the star in our bumpiness diagram to the radius of the Sun, R = 1 $R_{*}$. Using the value of the transit depth scatter from Figure 2 for both the wet and dry Earth, what would be the bumpiness in meters of the wet and the dry Earth?"
   ]
  },
  {
   "cell_type": "code",
   "execution_count": 181,
   "metadata": {},
   "outputs": [
    {
     "name": "stdout",
     "output_type": "stream",
     "text": [
      "Wet Earth:  79210.75500000002 \n",
      "Dry Earth:  236383.78500000003\n"
     ]
    }
   ],
   "source": [
    "print('Wet Earth: ', 624.24+174636.7*0.45*1**2, '\\nDry Earth: ', 624.24+174636.7*1.35*1**2)"
   ]
  },
  {
   "cell_type": "markdown",
   "metadata": {},
   "source": [
    "**20)** How do these new bumpiness measurements compare to Mt. Everest? "
   ]
  },
  {
   "cell_type": "markdown",
   "metadata": {},
   "source": [
    "They're substantially higher, meaning that Mt. Everest is likely not the maximum point of elevation on Earth.\n"
   ]
  },
  {
   "cell_type": "code",
   "execution_count": null,
   "metadata": {},
   "outputs": [],
   "source": []
  }
 ],
 "metadata": {
  "kernelspec": {
   "display_name": "Python 3",
   "language": "python",
   "name": "python3"
  },
  "language_info": {
   "codemirror_mode": {
    "name": "ipython",
    "version": 3
   },
   "file_extension": ".py",
   "mimetype": "text/x-python",
   "name": "python",
   "nbconvert_exporter": "python",
   "pygments_lexer": "ipython3",
   "version": "3.7.8"
  }
 },
 "nbformat": 4,
 "nbformat_minor": 2
}
