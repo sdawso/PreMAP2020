{
 "cells": [
  {
   "cell_type": "markdown",
   "metadata": {},
   "source": [
    "[Pre-MAP Course Website](http://depts.washington.edu/premap/seminar/cohort-16-2020-seminar/) | [Pre-MAP GitHub](https://github.com/UWPreMAP/PreMAP2020) | [Google](https://www.google.com)\n",
    "\n",
    "# Plotting with `matplotlib` \n",
    "\n",
    "*examples in this notebook are based on Nicholas Hunt-Walker's [plotting tutorial](https://github.com/nhuntwalker/teaching/blob/master/plotting_in_python.ipynb) and Jake VanderPlas' [matplotlib tutorial](https://github.com/jakevdp/2014_fall_ASTR599/blob/master/notebooks/06_MatplotlibIntro.ipynb)*\n",
    "\n",
    "In this notebook we will learn how to make basic plots like scatter plots, histograms, and line plots using matplotlib in python.\n",
    "\n",
    "## The gallery\n",
    "\n",
    "If you know what you want a plot to look like, but you don't know the code to make it, go to the [matplotlib gallery](http://matplotlib.org/gallery.html), where you can see examples and see the source code that generated them."
   ]
  },
  {
   "cell_type": "markdown",
   "metadata": {},
   "source": [
    "## Basic Plot Commands\n",
    "\n",
    "Some of the basic plotting commands include\n",
    "```python\n",
    "plt.plot()         # all purpose plotting function\n",
    "plt.errorbar()     # plotting with errorbars\n",
    "plt.loglog(), plt.semilogx(), plt.semilogy()   # plotting in logarithmic space\n",
    "```"
   ]
  },
  {
   "cell_type": "code",
   "execution_count": 2,
   "metadata": {},
   "outputs": [],
   "source": [
    "# we use matplotlib and specifically pyplot\n",
    "# the convention is to import it like this:\n",
    "import matplotlib.pyplot as plt \n",
    "\n",
    "# We'll also read some data using astropy, so let's import that\n",
    "import numpy as np \n",
    "from astropy.io import ascii\n",
    "\n",
    "# I'm also using this \"magic\" function to make my plots appear in this notebook\n",
    "# Only do this when working with Jupyter notebooks\n",
    "%matplotlib inline"
   ]
  },
  {
   "cell_type": "markdown",
   "metadata": {},
   "source": [
    "Let's make some sample `x` and `y` data, and plot it with the `plt.plot` command:"
   ]
  },
  {
   "cell_type": "code",
   "execution_count": null,
   "metadata": {},
   "outputs": [],
   "source": []
  },
  {
   "cell_type": "markdown",
   "metadata": {},
   "source": [
    "You can customize a bunch of features within the plot:\n",
    "* `markersize` sets the symbol size \n",
    "* `color` sets the color\n",
    "* The first argument after y sets the marker shape. Try: `x`, `.`, `o`, `+`, `--`, `-.`, `:`\n",
    "\n",
    "You could look at `plt.plot?` or check out [this list of markers.](https://matplotlib.org/3.1.0/api/markers_api.html)"
   ]
  },
  {
   "cell_type": "code",
   "execution_count": null,
   "metadata": {},
   "outputs": [],
   "source": []
  },
  {
   "cell_type": "markdown",
   "metadata": {},
   "source": [
    "Let's plot a sine function:"
   ]
  },
  {
   "cell_type": "code",
   "execution_count": null,
   "metadata": {},
   "outputs": [],
   "source": []
  },
  {
   "cell_type": "markdown",
   "metadata": {},
   "source": [
    "Let's plot a figure with errorbars: (Remember you can always Google [plt error bars](https://matplotlib.org/3.1.1/api/_as_gen/matplotlib.pyplot.errorbar.html) to learn more about a function.)"
   ]
  },
  {
   "cell_type": "code",
   "execution_count": null,
   "metadata": {},
   "outputs": [],
   "source": []
  },
  {
   "cell_type": "markdown",
   "metadata": {},
   "source": [
    "There are three options for log-plots: `plt.loglog()`, `plt.semilogx()`, `plt.semilogy()`"
   ]
  },
  {
   "cell_type": "code",
   "execution_count": null,
   "metadata": {},
   "outputs": [],
   "source": []
  },
  {
   "cell_type": "markdown",
   "metadata": {},
   "source": [
    "To add a legend to your plot, include the `label` argument in the plot command, then call `plt.legend()` at the end of the plotting commands."
   ]
  },
  {
   "cell_type": "code",
   "execution_count": null,
   "metadata": {},
   "outputs": [],
   "source": []
  },
  {
   "cell_type": "markdown",
   "metadata": {},
   "source": [
    "To save figures in python you just use `plt.savefig()`:"
   ]
  },
  {
   "cell_type": "code",
   "execution_count": null,
   "metadata": {},
   "outputs": [],
   "source": []
  },
  {
   "cell_type": "markdown",
   "metadata": {},
   "source": [
    "## Kepler's Law Example\n",
    "Let's make a log-log plot displaying [Kepler's law](https://en.wikipedia.org/wiki/Kepler%27s_laws_of_planetary_motion). \n",
    "\n",
    "Get AU and T values from the second table **Modern data (Wolfram Alpha Knowledgebase 2018)**"
   ]
  },
  {
   "cell_type": "code",
   "execution_count": null,
   "metadata": {},
   "outputs": [],
   "source": [
    "# Semimajor-axis in units of AU:\n",
    "a_AU = np.array([])\n",
    "\n",
    "# Orbital period in units of years\n",
    "T_yr = np.array([])"
   ]
  },
  {
   "cell_type": "code",
   "execution_count": null,
   "metadata": {},
   "outputs": [],
   "source": [
    "# now plot a function over the data\n",
    "# as you work more in python you will learn how to actually fit models to your data \n",
    "def keplers_third_law(a, M): \n",
    "    return np.sqrt((4*np.pi**2 * a**3) / (G * M))\n",
    "\n",
    "# Convert semimajor-axis into centimeters\n",
    "\n",
    "# Convert period into seconds\n"
   ]
  },
  {
   "cell_type": "markdown",
   "metadata": {},
   "source": [
    "## Scatter Plots "
   ]
  },
  {
   "cell_type": "code",
   "execution_count": null,
   "metadata": {},
   "outputs": [],
   "source": [
    "# first let's read in some data to use for plotting\n",
    "galaxy_table = ascii.read('data/mygalaxy.dat')\n",
    "\n",
    "# Let's look at what this data looks like\n",
    "\n",
    "# How to call a particular column"
   ]
  },
  {
   "cell_type": "code",
   "execution_count": null,
   "metadata": {},
   "outputs": [],
   "source": [
    "# simple scatter plot\n",
    "plt.scatter()"
   ]
  },
  {
   "cell_type": "markdown",
   "metadata": {},
   "source": [
    "**SIDE NOTE:** If you are running things in the IPython environment or from a script you would want to do something like the following to get your plots to show up in a new window:\n",
    "```python\n",
    "plt.scatter(galaxy_table['col1'], galaxy_table['col2'])\n",
    "plt.show()\n",
    "```\n",
    "\n",
    "In a Jupyter Notebook, you will see the plot outputs whether or not you call `plt.show()` because we've used the `%matplotlib inline` magic function."
   ]
  },
  {
   "cell_type": "markdown",
   "metadata": {},
   "source": [
    "Let's break down these basic examples:\n",
    "- We are running functions called \"plot\" or \"scatter\" that take specific arguments.\n",
    "- The most basic arguments that these functions take are in the form of (x,y) values for the plot, and we get these from a data table. \n",
    "- We can use more specific arguments like 'o' to customize things like the plot symbol (marker) that we are using. \n",
    "\n",
    "With plt.scatter() you can change things like point color, point size, point edge color and point type. The argument syntax for adding these options are as follows: \n",
    "\n",
    "- color = 'colorname'; could be 'b' for blue, 'k' for black, 'r' for red, or [more detailed names](https://matplotlib.org/3.3.2/gallery/color/named_colors.html) like 'Salmon'\n",
    "- s = number; changes marker size\n",
    "- markeredgecolor = `None` or 'colorname'\n",
    "- marker = 'symbolname', i.e. `'s'` for square, `'o'` for circle, `'+'` for cross, `'x'` for x, `'*'` for star, `'^'` for triangle, etc.\n",
    "\n",
    "Let's do an example:"
   ]
  },
  {
   "cell_type": "code",
   "execution_count": null,
   "metadata": {},
   "outputs": [],
   "source": [
    "# Use a scatter plot to re-make the galaxy table plot but use different arguments \n",
    "# such as color and marker size"
   ]
  },
  {
   "cell_type": "code",
   "execution_count": null,
   "metadata": {},
   "outputs": [],
   "source": [
    "# Here we can test the equivalent statement using plt.plot(), \n",
    "# note that the syntax is a little different "
   ]
  },
  {
   "cell_type": "markdown",
   "metadata": {},
   "source": [
    "The plot is starting to look better, but there is one really important thing that is missing: **axis labels.** These are very easy to put in in matplotlib using ```plt.xlabel() and plt.ylabel().``` These functions take strings as their arguments for the labels, but can also take other arguments that case the text format: "
   ]
  },
  {
   "cell_type": "code",
   "execution_count": null,
   "metadata": {},
   "outputs": [],
   "source": []
  },
  {
   "cell_type": "markdown",
   "metadata": {},
   "source": [
    "We can also change things like the axis limits with ```plt.xlim()``` and ```plt.ylim().``` For these we just want to feed it a range of values for each axis: "
   ]
  },
  {
   "cell_type": "code",
   "execution_count": null,
   "metadata": {},
   "outputs": [],
   "source": []
  },
  {
   "cell_type": "markdown",
   "metadata": {},
   "source": [
    "The axis labels are easy to read, but the numbers and tick marks on the axis are pretty small. We can tweak lots of little things about how the tick marks look, how they are spaced, and if we want to have a grid to guide the reader's eyes. I will give just a couple of examples here: "
   ]
  },
  {
   "cell_type": "code",
   "execution_count": null,
   "metadata": {},
   "outputs": [],
   "source": []
  },
  {
   "cell_type": "markdown",
   "metadata": {
    "collapsed": true
   },
   "source": [
    "By default the figure is square, but maybe this is not the best way to represent our data. If this is the case we can change the size of the figure: "
   ]
  },
  {
   "cell_type": "code",
   "execution_count": null,
   "metadata": {},
   "outputs": [],
   "source": []
  },
  {
   "cell_type": "markdown",
   "metadata": {},
   "source": [
    "The last thing I'll mention here is how to put text on plots. This too is simple as long as you specify (x,y) coordinates for the text. "
   ]
  },
  {
   "cell_type": "code",
   "execution_count": null,
   "metadata": {},
   "outputs": [],
   "source": []
  },
  {
   "cell_type": "markdown",
   "metadata": {},
   "source": [
    "## Exercise 1 ##\n",
    "Take the plot of that demonstrates Kepler's laws in our solar system, and:\n",
    "\n",
    "- label each data point to the correct planet. \n",
    "- change the size of axes label to make them clearer.\n",
    "- make any aesthetic changes that you think enhances the meaning you're tryin to convey with the plot (maybe you want to convey that each planet is a different size, and so change the marker size; maybe you want to convey that inner planets are rocky and outer planets are gaseous, so change the marker colour for a subset of them; etc)"
   ]
  },
  {
   "cell_type": "code",
   "execution_count": null,
   "metadata": {},
   "outputs": [],
   "source": []
  },
  {
   "cell_type": "markdown",
   "metadata": {
    "collapsed": true
   },
   "source": [
    "## Histograms \n",
    "\n",
    "Histograms can be a great way to visualize data, and they are (surprise) easy to make it python! The basic command is \n",
    "```python\n",
    "    num, bins, patches = plt.hist(array, bins=number)\n",
    "```\n",
    "Num refers to the number of elements in each bin, and bins refers to each bin on the x-axis. Note that bins actually gives you bin EDGES, so there will always be num+1 number of bins. We can ignore patches for now. As arguments plt.hist() takes an array and the number of bins you would like (default is bins=10). Some other optional arguments for plt.hist are: \n",
    "\n",
    "- **range:** lower and upper range of bins \n",
    "- **normed:** set to 'True' or 'False.' If true it will return a normalized probability distribution instead of just raw number counts for the y-axis. \n",
    "- **histtype:** can be step to something like 'step', 'stepfilled', or 'bar' for the histogram style. \n",
    "- **weights:** an array of values that must be of the same size as the number of bins. It controls the factor by which the number counts are weighted, i.e. it makes your number counts into number_counts*weight. "
   ]
  },
  {
   "cell_type": "code",
   "execution_count": null,
   "metadata": {},
   "outputs": [],
   "source": []
  },
  {
   "cell_type": "code",
   "execution_count": null,
   "metadata": {},
   "outputs": [],
   "source": []
  },
  {
   "cell_type": "code",
   "execution_count": null,
   "metadata": {},
   "outputs": [],
   "source": []
  },
  {
   "cell_type": "code",
   "execution_count": null,
   "metadata": {},
   "outputs": [],
   "source": []
  },
  {
   "cell_type": "code",
   "execution_count": null,
   "metadata": {},
   "outputs": [],
   "source": []
  },
  {
   "cell_type": "markdown",
   "metadata": {},
   "source": [
    "## Subplots\n",
    "\n",
    "Subplots are a way put multiple plots in what amounts to the same figure; think of subplots like an array of plots! You can read more about the `plt.subplots` syntax [here](https://matplotlib.org/3.1.1/api/_as_gen/matplotlib.pyplot.subplots.html). The syntax for setting labels and titles can be slightly different when using subplots than when making just one plot. I tend to use `plt.subplots` for all my plotting, even with just one plot. If you don't specify `nrows` and `ncols`, you will just produce one plot."
   ]
  },
  {
   "cell_type": "code",
   "execution_count": null,
   "metadata": {},
   "outputs": [],
   "source": [
    "#set up a variable for the total figure, and for each subplot axis\n",
    "#figsize sets up the size of the total figure. You can play around with these \n",
    "# values to see what they do\n",
    "# nrows and ncols define the number of rows and columns, respectively\n",
    "fig, ax = plt.subplots(nrows=1,ncols=2,figsize=(15,5))\n",
    "\n",
    "#Define some x and y values for plotting:\n",
    "x1 = np.linspace(0.0, 5.0)\n",
    "x2 = np.linspace(0.0, 2.0)\n",
    "\n",
    "y1 = np.cos(2 * np.pi * x1) * np.exp(-x1)\n",
    "y2 = np.cos(2 * np.pi * x2)\n",
    "\n",
    "#Plot x1 and y1 on the first axis, ax[0]\n",
    "\n",
    "#The syntax for setting x and y labels is slightly different \n",
    "#when you're calling it on an individual axis\n",
    "\n",
    "#Do the same thing for the second axis, ax[1]"
   ]
  },
  {
   "cell_type": "code",
   "execution_count": null,
   "metadata": {},
   "outputs": [],
   "source": [
    "#Now create the same two plots, but instead of having them side by side, stack them on top of each other\n",
    "\n",
    "#Fill in the ??? below to create two stacked plots. \n",
    "#Try to set the figsize to make the plot look good (not all stretched out)\n",
    "fig, ax = plt.subplots(nrows=???,ncols=???,figsize=(15,5))\n",
    "\n",
    "#Define some x and y values for plotting:\n",
    "x1 = np.linspace(0.0, 5.0)\n",
    "x2 = np.linspace(0.0, 2.0)\n",
    "\n",
    "y1 = np.cos(2 * np.pi * x1) * np.exp(-x1)\n",
    "y2 = np.cos(2 * np.pi * x2)\n",
    "\n",
    "#Plot x1 and y1 on the first axis, ax[0]\n",
    "\n",
    "#Do the same thing for the second axis, ax[1]"
   ]
  },
  {
   "cell_type": "markdown",
   "metadata": {},
   "source": [
    "You can do fancier things with subplots like have different plots share the same axis, put smaller plots as insets to larger plots, etc. Again, take a look at things like the matplotlib library for examples of different plots. "
   ]
  },
  {
   "cell_type": "markdown",
   "metadata": {},
   "source": [
    "## Plotting Exoplanets \n",
    "\n",
    "Let's try to make some plots with a new dataset. The file that we'll use is taken from [exoplanets.eu](http://exoplanet.eu/). "
   ]
  },
  {
   "cell_type": "code",
   "execution_count": null,
   "metadata": {},
   "outputs": [],
   "source": [
    "# don't worry about this way to read in files right now \n",
    "import pandas as pd \n",
    "exoplanets = pd.read_csv('data/exoplanet.eu_catalog_1022.csv')"
   ]
  },
  {
   "cell_type": "code",
   "execution_count": null,
   "metadata": {},
   "outputs": [],
   "source": [
    "# get rid of some rows with missing values to be safe\n",
    "exoplanets = exoplanets[np.isfinite(exoplanets['orbital_period'])]"
   ]
  },
  {
   "cell_type": "code",
   "execution_count": null,
   "metadata": {},
   "outputs": [],
   "source": [
    "# let's see what the data table looks like\n",
    "exoplanets['detection_type'][:20]"
   ]
  },
  {
   "cell_type": "code",
   "execution_count": null,
   "metadata": {},
   "outputs": [],
   "source": [
    "# plot distance from host star versus mass (in jupiter masses) for each exoplanet \n",
    "\n",
    "# Annotate Earth and Jupiter, Look up their values!\n",
    "\n",
    "# Add useful labels"
   ]
  },
  {
   "cell_type": "code",
   "execution_count": null,
   "metadata": {},
   "outputs": [],
   "source": [
    "# let's try to find out if the blobs above separate out by detection type\n",
    "plt.figure(figsize=(10,10))\n",
    "transits = exoplanets[exoplanets['detection_type'] == 'Primary Transit']\n",
    "radial_vel = exoplanets[exoplanets['detection_type'] == 'Radial Velocity']\n",
    "imaging = exoplanets[exoplanets['detection_type'] == 'Imaging']\n",
    "ttv = exoplanets[exoplanets['detection_type'] == 'TTV']\n",
    "\n",
    "# Plot and label each set of points related to each detection method \n",
    "# Use a different color for each and label them\n",
    "\n",
    "#Include your same labels and annotations from above\n",
    "\n",
    "plt.legend(loc=4, prop={'size':16})"
   ]
  },
  {
   "cell_type": "markdown",
   "metadata": {},
   "source": [
    "## Exercise 2 ##\n",
    "Copy the code we used to make the plot of exoplanet detections (directly above), and edit it so that Earth, Mars, and Jupiter are plotted as data points *with* labels, instead of Earth and Jupiter being just text annotations. \n",
    "\n",
    "After you've made the changes, let's try to interpret this plot. Answer the following questions:\n",
    "\n",
    "- What method is best to look for Jupiter analogues? \n",
    "- Which method is most successful in detecting the masses of planets across a large range of orbital separations? *Why do you think this is?*\n",
    "- Have we found a true Earth analog? \n",
    "- List what types of worlds are represented in the figure, and what region of parameter space they occupy. Name at least 3. (e.g., \"Jupiter analogues are represented in this figure by data points occupying the 5-10 AU and 1-5 $M_J$ space, in the upper right section\")"
   ]
  },
  {
   "cell_type": "code",
   "execution_count": null,
   "metadata": {},
   "outputs": [],
   "source": []
  },
  {
   "cell_type": "code",
   "execution_count": null,
   "metadata": {},
   "outputs": [],
   "source": []
  }
 ],
 "metadata": {
  "anaconda-cloud": {},
  "kernelspec": {
   "display_name": "Python 3",
   "language": "python",
   "name": "python3"
  },
  "language_info": {
   "codemirror_mode": {
    "name": "ipython",
    "version": 3
   },
   "file_extension": ".py",
   "mimetype": "text/x-python",
   "name": "python",
   "nbconvert_exporter": "python",
   "pygments_lexer": "ipython3",
   "version": "3.7.8"
  }
 },
 "nbformat": 4,
 "nbformat_minor": 1
}
