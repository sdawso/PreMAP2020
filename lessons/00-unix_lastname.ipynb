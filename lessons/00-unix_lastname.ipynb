{
 "cells": [
  {
   "cell_type": "markdown",
   "metadata": {},
   "source": [
    "# ! Make sure to change the filename so that you save your work!"
   ]
  },
  {
   "cell_type": "markdown",
   "metadata": {},
   "source": [
    "## First a little computer set-up..."
   ]
  },
  {
   "cell_type": "markdown",
   "metadata": {},
   "source": [
    "Before we begin the lesson, we need to do a little bit of set-up. Do not worry about what all of the following commands mean for now."
   ]
  },
  {
   "cell_type": "markdown",
   "metadata": {},
   "source": [
    "Open a browser window:\n",
    "1. Go to https://github.com/ and create an account.\n",
    "2. Put your username in the chat, and then we will add you to the organization. \n",
    "3. Go to your email and accept the invitation.\n",
    "4. Go to https://premap.dirac.institute and click \"Sign in with GitHub.\"\n",
    "5. Select \"Authorize uw-premap\" and wait a minute or so. \n",
    "\n",
    "In a new browser window:\n",
    "6. While you are waiting, go to https://github.com/UWPreMAP/PreMAP2020\n",
    "7. Click the \"Fork\" button in the top right corner. \n",
    "- if a window pops up asking \"Where should we fork PreMAP2020?\" click your username.\n",
    "8. Make sure that name of the directory (at the top right of the page in blue) now says: ```<username>/PreMAP2020``` Then click the green button that says \"Code\"\n",
    "9. Copy the web address to your computer's clipboard (right click copy or control-C): https://github.com/UWPreMAP/PreMAP2020.git\n",
    "\n",
    "Back in the first browser: (https://premap.dirac.institute)\n",
    "10. You are now logged into your individual \"JupyterHUB\" computer. Open a new Desktop page using the \"New\" dropdown menu. (New -> Desktop) **This is your \"Home Directory\" page**\n",
    "11. A new window will open. Select the \"Default Options\" on the left.\n",
    "\n",
    "Pause here. Nicole will explain more about the JupyterHUB environment. \n",
    "12. Close the Desktop tab. \n",
    "\n",
    "Back in your Home Directory:\n",
    "13. You'll see now that you only have a Desktop folder. \n",
    "14. Now, open a new Terminal page using the \"New\" dropdown menu. (New -> Terminal) \n",
    "\n",
    "15. List all the files in your home directory with the following command:\n",
    "```bash\n",
    "ls\n",
    "```\n",
    "\n",
    "16. You should see only Desktop. As we discussed before, the Terminal is another way of looking at the folders and documents on your computer. \n",
    "\n",
    "17. In the terminal, type:\n",
    "```bash\n",
    "git clone https://github.com/<your username>/PreMAP2020.git\n",
    "```\n",
    "18. This will download the PreMAP files that I've created and you've added to your GitHub.\n",
    "\n",
    "19. In the terminal type: \n",
    "```bash\n",
    "git remote add upstream https://github.com/UWPreMAP/PreMAP2020.git\n",
    "```\n",
    "20. This will makes it so that when I make edits to the original repository, you can see those changes.\n",
    "\n",
    "20. In the terminal type:\n",
    "```bash\n",
    "cd PreMAP2020\n",
    "```\n",
    "\n",
    "21. List all the files in your home directory with the following command:\n",
    "```bash\n",
    "ls\n",
    "```\n",
    "22. List all the files (including hidden files like setup information) in your home directory with the following command:\n",
    "```bash\n",
    "ls -a\n",
    "```\n",
    "\n",
    "23. You can move back into your home directory easily with the following command:\n",
    "```bash\n",
    "cd\n",
    "```\n",
    "\n",
    "24. Time to get started with today's lesson!"
   ]
  },
  {
   "cell_type": "markdown",
   "metadata": {},
   "source": [
    "### Each time you log on to your JupyterHUB (regardless of the browser) make sure your files are up to date\n",
    "1. Get into the PreMAP2020 directory\n",
    "```bash\n",
    "cd PreMAP2020\n",
    "```\n",
    "2. Update the directory to get any newly added files\n",
    "```bash\n",
    "git pull upstream\n",
    "```"
   ]
  },
  {
   "cell_type": "markdown",
   "metadata": {},
   "source": [
    "   "
   ]
  },
  {
   "cell_type": "markdown",
   "metadata": {},
   "source": [
    "# Introduction to Unix"
   ]
  },
  {
   "cell_type": "markdown",
   "metadata": {},
   "source": [
    "Very general question time: What is it that computers *do*? Computers can interact with us, store information for us, run programs, etc. Computers can help us do science! We, as scientists, interact with computers in a couple of basic ways, through the **command line interface (CLI)** or a **graphical user interface (GUI)**. What are some examples of GUIs? Well, almost everything you're used to using is a GUI! Word, Excel, etc. GUIs are great because they require no memorization of syntax or knowledge of programming--you can simply use menus and icons to move, delete, or open a file. So why bother with CLI at all? Because it can be very convenient and powerful, and we will learn how! \n",
    "\n",
    "**COMMAND SHELL**: The command shell is a program that helps you communicate with your computer. You type a something into the terminal, and then the shell takes this and figures out what commands the computer needs to run and then orders the computer to do so. A commonly used shell for Unix is the Bash shell. Let's start off with some very basic shell commands. NOTE: Because I'm in this python notebook environment I need to include this first line with the percentage signs. It is called a magic function and it just helps me simulate being in the shell environment. You DO NOT need to use this. "
   ]
  },
  {
   "cell_type": "markdown",
   "metadata": {},
   "source": [
    "## Basic Unix Commands - We'll do these directly in the terminal\n",
    "\n",
    "From your JupyterHUB starting in the home directory, open a new terminal window.\n",
    "\n",
    "We can ask the computer who the current user is using ` whoami`\n",
    "or we can print the working directory (where we are) using `pwd`\n",
    "In both cases the shell finds the program (either `whoami` or `pwd`), runs that program, and then displays the output for us. \n",
    "\n",
    "Type the following into your terminal window and press enter:\n",
    "```bash\n",
    "whoami\n",
    "```\n",
    "also try: \n",
    "```bash\n",
    "pwd\n",
    "```\n",
    "which stands for \"print the working directory\".\n",
    "\n",
    "From the `pwd` command, we can see which directory we are currently working in. \n",
    "\n",
    "`/home/<username>` refers to your so-called _home directory_. This is the top-level directory on your computer (remember: folder = directory). \n",
    "\n",
    "We need to be working in a specific directory to do some of the examples in this lesson. Type the following into your command line and press enter.\n",
    "```bash\n",
    "cd ~/PreMAP2019/lessons/UnixIntro\n",
    "```\n",
    "We'll worry about what this command means later. Let's investigate what is in our current working directory with the `ls` command: \n",
    "```bash\n",
    "ls\n",
    "```\n",
    "The `ls` command lists what is in the current working directory. You'll see something like this:\n",
    "```\n",
    "bar.txt\n",
    "baz.txt\n",
    "bio.txt\n",
    "foo.txt\n",
    "helloworld.py\n",
    "wordcount.txt\n",
    "```\n",
    "This is showing you the same things that you'd see in a file browser. "
   ]
  },
  {
   "cell_type": "markdown",
   "metadata": {},
   "source": [
    "The **```ls```** command LISTS what is in the current working directory. This is not very exciting right now, because all I have in here is this notebook and a few other files. Let's move to another directory to check out more stuff. Insert your own username where in the path where it says <username>: "
   ]
  },
  {
   "cell_type": "code",
   "execution_count": null,
   "metadata": {},
   "outputs": [],
   "source": [
    "%%bash\n",
    "cd /home/<username>/PreMAP2020\n",
    "ls -F"
   ]
  },
  {
   "cell_type": "markdown",
   "metadata": {},
   "source": [
    "So now we see a lot more stuff! I also added this trailing \"-F\" flag to **```ls```** to make it more clear which things are directories (adds trailing \"/\" to directories) and which things are files. We can tell what type of files all the files are by their extensions (i.e. names are \".pdf\" or the like). How did I change to this directory? I used the **```cd```** command to change directories, followed by the PATH to the new destination directory. The **```cd```** command can be followed by a variety of other characters to move around our file system. Let's look at a couple: "
   ]
  },
  {
   "cell_type": "code",
   "execution_count": null,
   "metadata": {},
   "outputs": [],
   "source": [
    "%%bash\n",
    "pwd\n",
    "cd .\n",
    "pwd\n",
    "cd .. \n",
    "pwd \n",
    "cd ~\n",
    "pwd"
   ]
  },
  {
   "cell_type": "markdown",
   "metadata": {},
   "source": [
    "So what did we do? We print our working directory (/astro/users/premapta/Lectures/UnixIntro), then I changed to the \".\" directory, then printed that directory (still UnixIntro), then changed to the \"..\" directory, then printed that directory (Lectures), then changed to the home directory (/astro/users/premapta) and printed it. So what are the \".\", \"..\", and \"~\" directories? These characters represent the current directory, the parent directory, and the home directory, respectively. We can get them to show up when we use a special flag with our **```ls```** command: "
   ]
  },
  {
   "cell_type": "code",
   "execution_count": null,
   "metadata": {
    "scrolled": false
   },
   "outputs": [],
   "source": [
    "%%bash \n",
    "ls -a"
   ]
  },
  {
   "cell_type": "markdown",
   "metadata": {},
   "source": [
    "This stands for \"list all.\" Now I want everyone to take a moment to do some exploring. If you type **```cd```** without a path to any directory, what happens? If you use the \"-l\" flag with **```ls```** what output do you get? What about if you use \"-la\" as the flag?"
   ]
  },
  {
   "cell_type": "markdown",
   "metadata": {},
   "source": [
    "Now that we've seen how to navigate through the directory structure and see what is inside directories, let's see how to create things. Navigate back to your home directory--**```cd /home/<username>```**--so that you will be able to create directories and write files. If we want to make a new directory we will use the following command: "
   ]
  },
  {
   "cell_type": "code",
   "execution_count": null,
   "metadata": {},
   "outputs": [],
   "source": [
    "%%bash\n",
    "cd ~/PreMAP2020/lessons/UnixIntro\n",
    "mkdir bio\n",
    "ls"
   ]
  },
  {
   "cell_type": "markdown",
   "metadata": {},
   "source": [
    "The **```mkdir```** command stands for \"make directory\" so with this we have created a new directory that I named bio. If you move into this directory and try to see what is in it you will see that it is empty. Go ahead and do that now. The next thing we'll want to do is create a file in this new directory. Let's make this a draft file. To create a file we will use the **```touch```** command followed by the name of the file we want to create. (More on creating files with text editors later on). "
   ]
  },
  {
   "cell_type": "code",
   "execution_count": null,
   "metadata": {},
   "outputs": [],
   "source": [
    "%%bash \n",
    "cd UnixIntro/bio\n",
    "\n",
    "touch draft.txt\n",
    "ls"
   ]
  },
  {
   "cell_type": "markdown",
   "metadata": {},
   "source": [
    "So we can see that we have created a \"draft.txt\" file in our bio directory, but this file is empty. Let's say we want to make a copy of a this file and move in to another directory. To make copies of files we use the **```cp```** command. To move files we will use **```mv```** command. NOTE: I am only doing the **```cd UnixIntro/bio```** command again because this notebook automatically reverts me back to the \"/home/nnicolesanchez/PreMAP2020/lessons\" directory when I start a new cell. In the terminal you would NOT need to do this. "
   ]
  },
  {
   "cell_type": "code",
   "execution_count": null,
   "metadata": {
    "scrolled": true
   },
   "outputs": [],
   "source": [
    "%%bash\n",
    "cd UnixIntro/bio\n",
    "\n",
    "cp draft.txt draftcopy.txt\n",
    "ls\n",
    "mv draftcopy.txt ..\n",
    "ls\n",
    "cd ..\n",
    "ls"
   ]
  },
  {
   "cell_type": "markdown",
   "metadata": {},
   "source": [
    "So let's see what we have done with this series of commands. We have copied \"draft.txt\" into a new file called \"draftcopy.txt.\" By using the **```ls```** command I can see that both these files exist in the directory. Next I use the **```mv```** command followed by the destination (recall from earlier) to move this copy file to one directory up. Now if I do **```ls```** again I see that ONLY \"draft.txt\" remains in this directory. Then, when we move out a directory using **```cd ..```**, we can see that draftcopy.txt is now in UnixIntro. Now let's say that I only want \"draftcopy.txt\" and so I decided to remove the whole bio directory. The command to remove something is **```rm```** (Note: be careful since removing is PERMANENT). Does this command work? Why or why not? "
   ]
  },
  {
   "cell_type": "markdown",
   "metadata": {},
   "source": [
    "You should find that it does not work since the directory is not empty. There are several things you could do here. You could go into the \"bio\" directory and remove the file using **```rm draft.txt```** and then subsequently delete the empty directory, or you could use one of the following commands:"
   ]
  },
  {
   "cell_type": "code",
   "execution_count": null,
   "metadata": {},
   "outputs": [],
   "source": [
    "%%bash\n",
    "rm -r bio\n",
    "rmdir bio"
   ]
  },
  {
   "cell_type": "markdown",
   "metadata": {},
   "source": [
    "The first command tells it to delete everything in the directory and then delete the directory itself (\"r\" stands for \"recursive\"), while the second command is the equivalent of **```rm```** for a directory (in that it will delete the whole directory). Again, be VERY careful when doing this. *Deleting is permanent.* "
   ]
  },
  {
   "cell_type": "markdown",
   "metadata": {},
   "source": [
    "The next thing to look at is how we can combine existing programs (commands) to do powerful things from the command line. Let's imagine that I have a very crowded directory with lots of different files, how will I find just the files of a certain type? We can use something called the wildcard to accomplish this. For example, let's say I only want to look at \".txt\" files. Here's how we might accomplish that: "
   ]
  },
  {
   "cell_type": "code",
   "execution_count": null,
   "metadata": {},
   "outputs": [],
   "source": [
    "%%bash\n",
    "ls *.txt"
   ]
  },
  {
   "cell_type": "markdown",
   "metadata": {},
   "source": [
    "This \"wildcard\" symbol matches one or more characters. The \"?\" wildcard matches a single character. You can use these in combination with one another to get at more specific file names. For example, what would **```ls b*.txt```** output versus **```ls ?a*```** versus **```ls ba?.txt```** Try these out to see what you get! Note that the wildcard can be used with any other shell command, for example **```rm  *```**. DON'T DO THIS. It's a bad idea to delete everything."
   ]
  },
  {
   "cell_type": "markdown",
   "metadata": {},
   "source": [
    "Let's say I want to write some of my output from the shell to a file. Let's use the ```wc``` command to count the number of lines, words, and characters in each file and then redirect that to a new file called \"wordcount.txt.\""
   ]
  },
  {
   "cell_type": "code",
   "execution_count": null,
   "metadata": {},
   "outputs": [],
   "source": [
    "%%bash\n",
    "wc *.txt\n",
    "wc *.txt > wordcount.txt"
   ]
  },
  {
   "cell_type": "markdown",
   "metadata": {},
   "source": [
    "The greater than symbol tells the computer to redirect the shell output to a file instead of printing it to a screen. If we want to see what is in this new file \"wordcount.txt,\" we can use the ```cat``` command, which stands for \"concatenate\" and instructs the computer to print the contents of the file."
   ]
  },
  {
   "cell_type": "code",
   "execution_count": null,
   "metadata": {},
   "outputs": [],
   "source": [
    "%%bash \n",
    "cat wordcount.txt"
   ]
  },
  {
   "cell_type": "markdown",
   "metadata": {},
   "source": [
    "If we want to view part of a file without printing the entire thing, you can use the ```more``` command. It will print out as much of the file as you can see in your terminal window. If the file is large, it will show you what percent you're viewing. If the file is short (like this one) you will see the whole file."
   ]
  },
  {
   "cell_type": "code",
   "execution_count": null,
   "metadata": {},
   "outputs": [],
   "source": [
    "%%bash \n",
    "more wordcount.txt"
   ]
  },
  {
   "cell_type": "markdown",
   "metadata": {},
   "source": [
    "Imagine that I had to do this for a REALLY large file. Would I want all the output printed directly to my screen? Probably not. Imagine I only care about that summary line at the end. In order to get at just the first or last few lines of a file we can use the **```head```** or **```tail```** commands as follows:"
   ]
  },
  {
   "cell_type": "code",
   "execution_count": null,
   "metadata": {},
   "outputs": [],
   "source": [
    "%%bash\n",
    "head -1 wordcount.txt\n",
    "tail -1 wordcount.txt"
   ]
  },
  {
   "cell_type": "markdown",
   "metadata": {},
   "source": [
    "The \"-1\" means either first line, or last line, respectively. We could change these numbers to get the first three lines, or last three lines, for example. Let's look at how we could search for instances of specific words in lines in files: "
   ]
  },
  {
   "cell_type": "code",
   "execution_count": null,
   "metadata": {},
   "outputs": [],
   "source": [
    "%%bash\n",
    "cat *.txt | grep -n \"file\""
   ]
  },
  {
   "cell_type": "markdown",
   "metadata": {},
   "source": [
    "The vertical bar is referred to as a \"pipe\". It tells the shell to take the output of the command on the left as the input to the command on the right. **```grep```** is a command that finds lines in files that match a particular pattern. It is a contraction of \"global/regular expression/print.\" The \"-n\" flag means to print the line number where the expression we are searching for occurs. There are many other flag options to go along with **```grep,```** which you can find by doing **```man grep```** (which stands for manual) or googling \"man grep unix.\" There are also lots of other ways to search for specific \"regular expressions\" using **```grep```**. As one example, let's look at what the following does: "
   ]
  },
  {
   "cell_type": "code",
   "execution_count": null,
   "metadata": {},
   "outputs": [],
   "source": [
    "%%bash\n",
    "cat *.txt | grep '^Here'"
   ]
  },
  {
   "cell_type": "markdown",
   "metadata": {},
   "source": [
    "When we add in the carrot this prints out the file contents of only those files that have lines beginning with \"Here.\""
   ]
  },
  {
   "cell_type": "markdown",
   "metadata": {},
   "source": [
    "We can also use the **```sort```** command on files. Here I will show an example of doing an alphabetical sort, but note that it is possible to do a numerical sort as well (you will try this later for yourselves). What if I tried this with **```sort -k 2 alpha.dat```** instead?"
   ]
  },
  {
   "cell_type": "code",
   "execution_count": null,
   "metadata": {
    "scrolled": true
   },
   "outputs": [],
   "source": [
    "%%bash\n",
    "sort -k 1 alpha.dat"
   ]
  },
  {
   "cell_type": "markdown",
   "metadata": {},
   "source": [
    "## Opening a Jupyter notebook\n",
    "\n",
    "Return to your Home Directory browser page. (https://premap.dirac.institute)\n",
    "1. Open a new Jupyter Notebook page. (New -> Python 3)\n",
    "2. This will open a new browser page.\n",
    "3. For homework assignments, you will be opening up these Jupyter notebooks in the `PreMAP2020/homework/` directory. Each homework assignment will contain instructions for how to turn it in."
   ]
  },
  {
   "cell_type": "markdown",
   "metadata": {},
   "source": [
    "## Last Notes about JupyterHUB\n",
    "When you close your terminal, you lose all the commands that you've run. If you're trying to remember a command you used before you can use the \"up arrow\" to search through recent commands or use the %%```history```%% command to print your last 100 commands. Your homework will include a cheat sheet for remembering a lot of these commands though, so you'll be able to look them up later on.\n",
    "\n",
    "Your Jupyter Notebooks will often autosave, but it's a good habit to save before you close a browser window."
   ]
  },
  {
   "cell_type": "code",
   "execution_count": null,
   "metadata": {},
   "outputs": [],
   "source": []
  }
 ],
 "metadata": {
  "kernelspec": {
   "display_name": "Python 3",
   "language": "python",
   "name": "python3"
  },
  "language_info": {
   "codemirror_mode": {
    "name": "ipython",
    "version": 3
   },
   "file_extension": ".py",
   "mimetype": "text/x-python",
   "name": "python",
   "nbconvert_exporter": "python",
   "pygments_lexer": "ipython3",
   "version": "3.7.8"
  }
 },
 "nbformat": 4,
 "nbformat_minor": 1
}
